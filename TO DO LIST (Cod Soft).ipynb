{
 "cells": [
  {
   "cell_type": "code",
   "execution_count": 1,
   "id": "0ed9c895-1b06-4aea-8730-ffa9028b76aa",
   "metadata": {},
   "outputs": [],
   "source": [
    "import tkinter as tk\n",
    "\n",
    "def add_task():\n",
    "    task = task_entry.get()\n",
    "    if task:\n",
    "        task_listbox.insert(tk.END, task)\n",
    "        task_entry.delete(0, tk.END)\n",
    "\n",
    "def remove_task():\n",
    "    selected_task_index = task_listbox.curselection()\n",
    "    if selected_task_index:\n",
    "        task_listbox.delete(selected_task_index)"
   ]
  },
  {
   "cell_type": "code",
   "execution_count": 2,
   "id": "4c31e866-1f50-493b-83bd-1dd2ee3ec61e",
   "metadata": {},
   "outputs": [
    {
     "data": {
      "text/plain": [
       "''"
      ]
     },
     "execution_count": 2,
     "metadata": {},
     "output_type": "execute_result"
    }
   ],
   "source": [
    "#\n",
    "root = tk.Tk()\n",
    "root.title(\"To-Do List\")\n",
    "root.geometry(\"400x650+400+100\")"
   ]
  },
  {
   "cell_type": "code",
   "execution_count": 3,
   "id": "31fe4167-2caa-460a-8b20-ccf46e9dfe80",
   "metadata": {},
   "outputs": [],
   "source": [
    "task_listbox = tk.Listbox(root)\n",
    "task_listbox.pack(pady=10)"
   ]
  },
  {
   "cell_type": "code",
   "execution_count": 4,
   "id": "9e6b871f-c639-432a-9a4d-0f9902a32bfd",
   "metadata": {},
   "outputs": [],
   "source": [
    "task_listbox = tk.Listbox(root)\n",
    "task_listbox.pack(pady=10)"
   ]
  },
  {
   "cell_type": "code",
   "execution_count": 5,
   "id": "75e217fb-e70f-4da0-91fd-2cabfd3f5f5e",
   "metadata": {},
   "outputs": [],
   "source": [
    "add_button = tk.Button(root, text=\"Add Task\", command=add_task)\n",
    "remove_button = tk.Button(root, text=\"Remove Task\", command=remove_task)\n"
   ]
  },
  {
   "cell_type": "code",
   "execution_count": 6,
   "id": "d903c637-98d1-4918-9faf-f7d0e9d95a75",
   "metadata": {},
   "outputs": [],
   "source": [
    "add_button.pack()\n",
    "remove_button.pack()"
   ]
  },
  {
   "cell_type": "code",
   "execution_count": 7,
   "id": "e9a4b152-aa1b-4ffb-a69c-576a3233a449",
   "metadata": {},
   "outputs": [
    {
     "name": "stderr",
     "output_type": "stream",
     "text": [
      "Exception in Tkinter callback\n",
      "Traceback (most recent call last):\n",
      "  File \"C:\\Users\\ITLAB\\AppData\\Local\\Programs\\Python\\Python312\\Lib\\tkinter\\__init__.py\", line 1968, in __call__\n",
      "    return self.func(*args)\n",
      "           ^^^^^^^^^^^^^^^^\n",
      "  File \"C:\\Users\\ITLAB\\AppData\\Local\\Temp\\ipykernel_1236\\1417868375.py\", line 4, in add_task\n",
      "    task = task_entry.get()\n",
      "           ^^^^^^^^^^\n",
      "NameError: name 'task_entry' is not defined\n"
     ]
    }
   ],
   "source": [
    "root.mainloop()"
   ]
  },
  {
   "cell_type": "code",
   "execution_count": null,
   "id": "8a56aac1-298d-4b02-aecd-8d002ee14c2d",
   "metadata": {},
   "outputs": [],
   "source": []
  }
 ],
 "metadata": {
  "kernelspec": {
   "display_name": "Python 3 (ipykernel)",
   "language": "python",
   "name": "python3"
  },
  "language_info": {
   "codemirror_mode": {
    "name": "ipython",
    "version": 3
   },
   "file_extension": ".py",
   "mimetype": "text/x-python",
   "name": "python",
   "nbconvert_exporter": "python",
   "pygments_lexer": "ipython3",
   "version": "3.12.4"
  }
 },
 "nbformat": 4,
 "nbformat_minor": 5
}
